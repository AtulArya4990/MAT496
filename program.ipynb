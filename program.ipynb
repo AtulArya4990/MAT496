{
 "cells": [
  {
   "cell_type": "code",
   "execution_count": 1,
   "id": "350c7398",
   "metadata": {},
   "outputs": [
    {
     "data": {
      "text/plain": [
       "True"
      ]
     },
     "execution_count": 1,
     "metadata": {},
     "output_type": "execute_result"
    }
   ],
   "source": [
    "from dotenv import load_dotenv\n",
    "load_dotenv()"
   ]
  },
  {
   "cell_type": "code",
   "execution_count": 2,
   "id": "c9da9c27",
   "metadata": {},
   "outputs": [],
   "source": [
    "#!pip install -qU \"langchain[groq]\""
   ]
  },
  {
   "cell_type": "code",
   "execution_count": 3,
   "id": "5ad46e3d",
   "metadata": {},
   "outputs": [
    {
     "data": {
      "text/plain": [
       "AIMessage(content=\"Let's break it down step by step:\\n\\n1. The bat costs $1.00 more than the ball.\\n2. Let's say the ball costs x cents.\\n3. Then, the bat costs x + $1.00 (since it's $1.00 more than the ball).\\n4. The total cost of the bat and the ball together is $1.10.\\n5. So, we can set up the equation: x + (x + $1.00) = $1.10.\\n6. Combine like terms: 2x + $1.00 = $1.10.\\n7. Subtract $1.00 from both sides: 2x = $0.10.\\n8. Divide both sides by 2: x = $0.05.\\n\\nSo, the ball costs $0.05, or 5 cents.\\n\\nIntuitive but incorrect answers might include thinking the ball costs $0.10, but that would mean the bat costs $1.10, and the total would be $1.20, not $1.10. Logical thinking and careful calculation help us avoid this pitfall and arrive at the correct answer.\", additional_kwargs={}, response_metadata={'token_usage': {'completion_tokens': 239, 'prompt_tokens': 91, 'total_tokens': 330, 'completion_time': 0.478024763, 'prompt_time': 0.005206675, 'queue_time': 0.596259303, 'total_time': 0.483231438}, 'model_name': 'llama-3.3-70b-versatile', 'system_fingerprint': 'fp_155ab82e98', 'service_tier': 'on_demand', 'finish_reason': 'stop', 'logprobs': None}, id='run--e8075371-fb85-4dbe-8237-217fe51303e7-0', usage_metadata={'input_tokens': 91, 'output_tokens': 239, 'total_tokens': 330})"
      ]
     },
     "execution_count": 3,
     "metadata": {},
     "output_type": "execute_result"
    }
   ],
   "source": [
    "from langchain_groq import ChatGroq\n",
    "\n",
    "model = ChatGroq(model = \"llama-3.3-70b-versatile\", api_key = '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')\n",
    "\n",
    "model.invoke(\"\"\"A bat and a ball together cost $1.10. The bat costs $1.00 more than the ball. How much does the ball cost?This question requires logical thinking, problem-solving, and the ability to avoid intuitive but incorrect answers. Can you figure it out?\"\"\")"
   ]
  },
  {
   "cell_type": "code",
   "execution_count": 4,
   "id": "bf2b2c4b",
   "metadata": {},
   "outputs": [
    {
     "data": {
      "text/plain": [
       "AIMessage(content=\"Playing basketball can be a fun and rewarding experience, whether you're a beginner or a seasoned player. Here's a step-by-step guide on how to play basketball:\\n\\n**Objective:**\\nThe objective of basketball is to score more points than the opposing team by shooting a ball through a hoop (called a basket) using various techniques such as dribbling, passing, and shooting.\\n\\n**Basic Rules:**\\n\\n1. **The Game**: A standard basketball game is played between two teams, each consisting of five players. The game is divided into four quarters, each lasting 12 minutes in professional play and 8 minutes in college and high school play.\\n2. **The Court**: The game takes place on a rectangular court with a hoop (called a basket) at each end. The court is divided into two halves, with a mid-court line in the center.\\n3. **The Ball**: The ball must be bounced or dribbled to move it around the court. Players can use one hand to dribble, but not two hands at the same time.\\n4. **Scoring**: Points can be scored in several ways:\\n\\t* **Field Goal**: When a player shoots the ball into the opponent's basket (2 points).\\n\\t* **Three-Pointer**: When a player shoots the ball from behind the three-point line (3 points).\\n\\t* **Free Throw**: When a player is awarded a shot from the free throw line after being fouled (1 point).\\n\\n**Basic Skills:**\\n\\n1. **Dribbling**: Bouncing the ball on the floor to move it around the court.\\n2. **Passing**: Throwing the ball to a teammate.\\n3. **Shooting**: Throwing the ball into the opponent's basket.\\n4. **Rebounding**: Grabbing the ball after a shot is missed.\\n\\n**How to Play:**\\n\\n1. **Start of the Game**: The game begins with a jump ball, where two players from each team jump up and try to tap the ball to a teammate.\\n2. **Ball Movement**: Players can move the ball by dribbling or passing to teammates.\\n3. **Scoring Opportunities**: Players can create scoring opportunities by:\\n\\t* **Driving to the Basket**: Dribbling the ball towards the basket and attempting to score.\\n\\t* **Shooting from the Perimeter**: Shooting the ball from outside the three-point line.\\n4. **Defending**: Players can defend by:\\n\\t* **Guarding the Ball**: Staying in front of the opponent and trying to steal the ball.\\n\\t* **Blocking Shots**: Jumping up to block an opponent's shot.\\n5. **Rebounding**: Players can grab the ball after a shot is missed and create a new scoring opportunity.\\n6. **End of the Game**: The team with the most points at the end of four quarters wins the game.\\n\\n**Tips for Beginners:**\\n\\n1. **Practice Dribbling**: Start by practicing dribbling with one hand, then switch to the other hand.\\n2. **Work on Your Shot**: Practice shooting from different spots on the court, such as the free throw line, the three-point line, and the post.\\n3. **Play with Others**: Join a local basketball league or play with friends to improve your skills and learn from others.\\n4. **Focus on Fundamentals**: Master the basic skills of dribbling, passing, and shooting before moving on to more advanced techniques.\\n\\n**Advanced Techniques:**\\n\\n1. **Crossover Dribble**: A move where the player switches the ball from one hand to the other while dribbling.\\n2. **Behind-the-Back Dribble**: A move where the player dribbles the ball behind their back to avoid a defender.\\n3. **Alley-Oop**: A play where a player throws the ball to a teammate who is near the basket, and the teammate dunks the ball.\\n4. **Pick and Roll**: A play where a player sets a screen for a teammate, and the teammate uses the screen to drive to the basket or shoot.\\n\\nRemember, the key to improving your basketball skills is to practice regularly and have fun playing the game!\", additional_kwargs={}, response_metadata={'token_usage': {'completion_tokens': 840, 'prompt_tokens': 39, 'total_tokens': 879, 'completion_time': 1.70275138, 'prompt_time': 0.002507879, 'queue_time': 0.101287541, 'total_time': 1.705259259}, 'model_name': 'llama-3.3-70b-versatile', 'system_fingerprint': 'fp_155ab82e98', 'service_tier': 'on_demand', 'finish_reason': 'stop', 'logprobs': None}, id='run--548cf895-ec80-4be2-8c43-0ab2c200f9c2-0', usage_metadata={'input_tokens': 39, 'output_tokens': 840, 'total_tokens': 879})"
      ]
     },
     "execution_count": 4,
     "metadata": {},
     "output_type": "execute_result"
    }
   ],
   "source": [
    "model.invoke(\"How to play basketball\")"
   ]
  },
  {
   "cell_type": "code",
   "execution_count": 5,
   "id": "939354f4",
   "metadata": {},
   "outputs": [
    {
     "data": {
      "text/plain": [
       "AIMessage(content=\"It's nice to meet you. Is there something I can help you with or would you like to chat?\", additional_kwargs={}, response_metadata={'token_usage': {'completion_tokens': 23, 'prompt_tokens': 36, 'total_tokens': 59, 'completion_time': 0.038216349, 'prompt_time': 0.003238022, 'queue_time': 0.078714098, 'total_time': 0.041454371}, 'model_name': 'llama-3.3-70b-versatile', 'system_fingerprint': 'fp_155ab82e98', 'service_tier': 'on_demand', 'finish_reason': 'stop', 'logprobs': None}, id='run--1c57b2e1-7fc7-42e2-8a98-54290b4050c8-0', usage_metadata={'input_tokens': 36, 'output_tokens': 23, 'total_tokens': 59})"
      ]
     },
     "execution_count": 5,
     "metadata": {},
     "output_type": "execute_result"
    }
   ],
   "source": [
    "model.invoke(\"hi\")"
   ]
  },
  {
   "cell_type": "code",
   "execution_count": 6,
   "id": "aaa22d35",
   "metadata": {},
   "outputs": [
    {
     "data": {
      "text/plain": [
       "<generator object BaseChatModel.stream at 0x00000182D8141630>"
      ]
     },
     "execution_count": 6,
     "metadata": {},
     "output_type": "execute_result"
    }
   ],
   "source": [
    "model.stream(\"hello\")"
   ]
  },
  {
   "cell_type": "code",
   "execution_count": 7,
   "id": "5a7158ea",
   "metadata": {},
   "outputs": [
    {
     "data": {
      "text/plain": [
       "AIMessage(content='Hello. How can I assist you today?', additional_kwargs={}, response_metadata={'token_usage': {'completion_tokens': 10, 'prompt_tokens': 36, 'total_tokens': 46, 'completion_time': 0.020036866, 'prompt_time': 0.001800447, 'queue_time': 0.048870553, 'total_time': 0.021837313}, 'model_name': 'llama-3.3-70b-versatile', 'system_fingerprint': 'fp_155ab82e98', 'service_tier': 'on_demand', 'finish_reason': 'stop', 'logprobs': None}, id='run--b036cbb9-dbf8-4834-bf4e-84d9867e1216-0', usage_metadata={'input_tokens': 36, 'output_tokens': 10, 'total_tokens': 46})"
      ]
     },
     "execution_count": 7,
     "metadata": {},
     "output_type": "execute_result"
    }
   ],
   "source": [
    "\n",
    "\n",
    "model.invoke(\"hello\")\n",
    "\n"
   ]
  },
  {
   "cell_type": "code",
   "execution_count": 8,
   "id": "3c4fedea",
   "metadata": {},
   "outputs": [
    {
     "data": {
      "text/plain": [
       "AIMessage(content='Here\\'s a question to assess cognitive abilities:\\n\\n\"A bat and a ball together cost $1.10. The bat costs $1.00 more than the ball. How much does the ball cost?\"\\n\\nThis question requires logical reasoning, problem-solving, and mathematical thinking. Let me know if you\\'d like me to reveal the answer or provide an explanation.', additional_kwargs={}, response_metadata={'token_usage': {'completion_tokens': 71, 'prompt_tokens': 44, 'total_tokens': 115, 'completion_time': 0.185860128, 'prompt_time': 0.002316884, 'queue_time': 0.120230876, 'total_time': 0.188177012}, 'model_name': 'llama-3.3-70b-versatile', 'system_fingerprint': 'fp_155ab82e98', 'service_tier': 'on_demand', 'finish_reason': 'stop', 'logprobs': None}, id='run--87e01a73-25a9-4c85-9665-abe776b1a525-0', usage_metadata={'input_tokens': 44, 'output_tokens': 71, 'total_tokens': 115})"
      ]
     },
     "execution_count": 8,
     "metadata": {},
     "output_type": "execute_result"
    }
   ],
   "source": [
    "from langchain_groq import ChatGroq\n",
    "\n",
    "model = ChatGroq(model = \"llama-3.3-70b-versatile\", api_key = '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')\n",
    "\n",
    "model.invoke(\" generate a question to check someone's IQ.\")"
   ]
  },
  {
   "cell_type": "code",
   "execution_count": 9,
   "id": "8ddc26f4",
   "metadata": {},
   "outputs": [
    {
     "data": {
      "text/plain": [
       "AIMessage(content=\"Playing basketball can be a fun and rewarding experience, but it requires a combination of skills, strategy, and physical fitness. Here's a step-by-step guide to get you started:\\n\\n**Basic Rules:**\\n\\n1. The game is played by two teams, each with five players on the court.\\n2. The objective is to score more points than the opposing team by shooting the ball into the opponent's basket.\\n3. The game is divided into four quarters, each lasting 12 minutes in professional play and 8 minutes in college and high school play.\\n\\n**Basic Skills:**\\n\\n1. **Dribbling:** Dribbling is the act of bouncing the ball on the floor while moving. To dribble, start with your feet shoulder-width apart and your dominant hand on top of the ball. Use your fingertips to control the ball and keep it low to the ground.\\n2. **Shooting:** Shooting is the act of throwing the ball into the opponent's basket. There are several types of shots, including:\\n\\t* **Jump shot:** A shot taken while jumping into the air.\\n\\t* **Layup:** A shot taken close to the basket, often while driving to the basket.\\n\\t* **Free throw:** An uncontested shot taken from the free throw line after a foul.\\n3. **Passing:** Passing is the act of throwing the ball to a teammate. There are several types of passes, including:\\n\\t* **Chest pass:** A pass thrown from the chest to a teammate.\\n\\t* **Bounce pass:** A pass thrown with a bounce, often used to get the ball to a teammate in a tight space.\\n4. **Rebounding:** Rebounding is the act of grabbing the ball after a shot is taken. There are two types of rebounds:\\n\\t* **Offensive rebound:** A rebound grabbed by the team that shot the ball.\\n\\t* **Defensive rebound:** A rebound grabbed by the team that did not shoot the ball.\\n\\n**Gameplay:**\\n\\n1. **Tip-off:** The game starts with a jump ball, where two players from each team jump up and try to tap the ball to a teammate.\\n2. **Ball movement:** Players move the ball up the court by dribbling or passing.\\n3. **Scoring:** Players score by shooting the ball into the opponent's basket.\\n4. **Defense:** Players defend by trying to steal the ball, block shots, or intercept passes.\\n5. **Rebounding:** Players grab rebounds to gain possession of the ball.\\n\\n**Positions:**\\n\\n1. **Point guard:** The point guard is responsible for bringing the ball up the court and setting up the team's offense.\\n2. **Shooting guard:** The shooting guard is responsible for scoring and creating scoring opportunities.\\n3. **Small forward:** The small forward is responsible for scoring, rebounding, and defending.\\n4. **Power forward:** The power forward is responsible for scoring, rebounding, and defending in the paint.\\n5. **Center:** The center is responsible for defending the basket, rebounding, and scoring in the paint.\\n\\n**Tips for Beginners:**\\n\\n1. **Practice dribbling:** Start with stationary dribbling and gradually move on to moving dribbling.\\n2. **Practice shooting:** Start with short shots and gradually move on to longer shots.\\n3. **Practice passing:** Start with short passes and gradually move on to longer passes.\\n4. **Play with others:** Join a local league or play with friends to get game experience.\\n5. **Watch and learn:** Watch professional and college games to learn new skills and strategies.\\n\\nRemember, the key to improving at basketball is to practice regularly and have fun. Don't be afraid to try new things and make mistakes – it's all part of the learning process!\", additional_kwargs={}, response_metadata={'token_usage': {'completion_tokens': 765, 'prompt_tokens': 40, 'total_tokens': 805, 'completion_time': 1.5038557259999998, 'prompt_time': 0.002048621, 'queue_time': 0.049339519, 'total_time': 1.505904347}, 'model_name': 'llama-3.3-70b-versatile', 'system_fingerprint': 'fp_155ab82e98', 'service_tier': 'on_demand', 'finish_reason': 'stop', 'logprobs': None}, id='run--5c77568c-eb33-48a4-bfae-8a653564edc0-0', usage_metadata={'input_tokens': 40, 'output_tokens': 765, 'total_tokens': 805})"
      ]
     },
     "execution_count": 9,
     "metadata": {},
     "output_type": "execute_result"
    }
   ],
   "source": [
    "model.invoke(\"how to play basketball?\")"
   ]
  },
  {
   "cell_type": "code",
   "execution_count": 10,
   "id": "8dc793af",
   "metadata": {},
   "outputs": [],
   "source": [
    "# Prompt template\n",
    "\n",
    "prompt_template = \"\"\"Translate the given text in to the given language: \n",
    "Text: {text}\n",
    "Lang: {lang}\n",
    "\"\"\""
   ]
  },
  {
   "cell_type": "code",
   "execution_count": 11,
   "id": "a1a916c0",
   "metadata": {},
   "outputs": [
    {
     "name": "stdout",
     "output_type": "stream",
     "text": [
      "Translate the given text in to the given language: \n",
      "Text: why are you attending llm lecture?\n",
      "Lang: spanish\n",
      "\n"
     ]
    }
   ],
   "source": [
    "prompt = prompt_template.format(text = \"why are you attending llm lecture?\", lang = \"spanish\")\n",
    "print(prompt)"
   ]
  },
  {
   "cell_type": "code",
   "execution_count": 12,
   "id": "e93ab9c1",
   "metadata": {},
   "outputs": [
    {
     "data": {
      "text/plain": [
       "AIMessage(content='The translation of the given text in Spanish is:\\n\\n\"¿Por qué estás asistiendo a la conferencia de LLM?\"\\n\\nHere\\'s a breakdown of the translation:\\n\\n* \"why\" = \"¿por qué\"\\n* \"are you\" = \"estás\"\\n* \"attending\" = \"asistiendo a\"\\n* \"llm lecture\" = \"conferencia de LLM\" (note: LLM is an abbreviation and is often left untranslated, but if you want to translate it, it would be \"Modelo de Lenguaje Grande\")', additional_kwargs={}, response_metadata={'token_usage': {'completion_tokens': 117, 'prompt_tokens': 60, 'total_tokens': 177, 'completion_time': 0.301976959, 'prompt_time': 0.002909909, 'queue_time': 0.055821981, 'total_time': 0.304886868}, 'model_name': 'llama-3.3-70b-versatile', 'system_fingerprint': 'fp_155ab82e98', 'service_tier': 'on_demand', 'finish_reason': 'stop', 'logprobs': None}, id='run--db351432-6ffb-4ee9-8fa8-f2387ee39801-0', usage_metadata={'input_tokens': 60, 'output_tokens': 117, 'total_tokens': 177})"
      ]
     },
     "execution_count": 12,
     "metadata": {},
     "output_type": "execute_result"
    }
   ],
   "source": [
    "response =  model.invoke(prompt)\n",
    "response"
   ]
  },
  {
   "cell_type": "code",
   "execution_count": 13,
   "id": "d229a5de",
   "metadata": {},
   "outputs": [
    {
     "name": "stdout",
     "output_type": "stream",
     "text": [
      "The translation of the given text in Spanish is:\n",
      "\n",
      "\"¿Por qué estás asistiendo a la conferencia de LLM?\"\n",
      "\n",
      "Here's a breakdown of the translation:\n",
      "\n",
      "* \"why\" = \"¿por qué\"\n",
      "* \"are you\" = \"estás\"\n",
      "* \"attending\" = \"asistiendo a\"\n",
      "* \"llm lecture\" = \"conferencia de LLM\" (note: LLM is an abbreviation and is often left untranslated, but if you want to translate it, it would be \"Modelo de Lenguaje Grande\")\n"
     ]
    }
   ],
   "source": [
    "print(response.content)"
   ]
  },
  {
   "cell_type": "code",
   "execution_count": 14,
   "id": "d0593983",
   "metadata": {},
   "outputs": [],
   "source": [
    "prompt_template = \"\"\"You are an assistant for question-answering tasks. Use the following pieces of retrieved context to answer the question. If you don't know the answer, just say that you don't know. Use three sentences maximum and keep the answer concise.\n",
    "Question: {question} \n",
    "Context: {context} \n",
    "Answer:\"\"\""
   ]
  },
  {
   "cell_type": "code",
   "execution_count": 15,
   "id": "63acaf9c",
   "metadata": {},
   "outputs": [
    {
     "name": "stdout",
     "output_type": "stream",
     "text": [
      "The context suggests that Messi is one of the greatest football players of all time, known for his skills and playmaking ability. He is also considered one of the top scorers in football history. However, it's subjective to determine the \"greatest\" player, but Messi is often considered a strong contender for this title.\n"
     ]
    }
   ],
   "source": [
    "prompt = prompt_template.format(question = \"Who is the greatest football player of all time?\", context = \"Messi has got skills and a very good playmaker in the history of football and comest in the top scorer of all time\")\n",
    "\n",
    "\n",
    "response = model.invoke(prompt)\n",
    "print(response.content)"
   ]
  },
  {
   "cell_type": "code",
   "execution_count": 16,
   "id": "d5f0ad87",
   "metadata": {},
   "outputs": [
    {
     "name": "stdout",
     "output_type": "stream",
     "text": [
      "The article reports on the ongoing trade tensions between the US and India, with US President Donald Trump stating that India has offered to cut its tariffs to zero. However, this claim has not been confirmed by India. The current trade stalemate between the two countries has been exacerbated by India's refusal to stop buying oil from Russia, which has led to the US imposing a 50% tariff on Indian goods, including a 25% penalty.\n",
      "\n",
      "The situation has caused a significant strain on Delhi-Washington ties, with Trump accusing India of indirectly funding Russia's war in Ukraine by buying oil from the country. India, on the other hand, has defended its decision to buy oil from Russia, citing its energy needs and calling the US tariffs \"unfair, unjustified, and unreasonable.\"\n",
      "\n",
      "The article also mentions that Indian Prime Minister Narendra Modi recently attended the Shanghai Cooperation Organisation (SCO) summit, where he met with Chinese President Xi Jinping and Russian President Vladimir Putin. This has raised concerns in Washington about India's growing ties with Russia and China.\n",
      "\n",
      "Trump's comments on the trade relationship between the US and India highlight the significant imbalance in trade between the two countries, with India selling large amounts of goods to the US while the US sells relatively little to India. The Indian government has responded by saying that it will not bow down to pressure and is ready to negotiate a free-trade agreement with any country that is interested.\n",
      "\n",
      "Overall, the article suggests that the trade tensions between the US and India are unlikely to be resolved soon, with both countries dug in on their positions and engaging in a war of words over the issue.\n"
     ]
    }
   ],
   "source": [
    "prompt_template = \"US President Donald Trump says India has offered to cut its tariffs to nothing even as he called the current trade stalemate with the country a totally one sided disaster.US tariffs of 50% on goods from India - which includes 25% penalty for Delhi's refusal to stop buying oil from Russia - took effect last week.India has not responded to Trump's latest comment but such war of words over Russian oil has caused Delhi-Washington ties to hit an all-time low.Trump's comment coincides with Indian Prime Minister Narendra Modi attending the Shanghai Co-operation Organisation (SCO) summit in Tianjin where he met Chinese President Xi Jinping and Russian President Vladimir Putin.Washington says Delhi has been indirectly funding Russia's war in Ukraine.India buys most of its oil and military products from Russia, very little from the US, Trump wrote, adding Delhi should have cut tariffs years ago.Delhi has previously said that oil supply from Russia was vital to meet the energy needs of its vast populationIt has also called the tariffs unfair, unjustified and unreasonable.Last week, the country's commerce minister, Piyush Goyal, said India will neither bow down nor ever appear weak in its economic relationships with other countries.He also said the country was ready to a have a free-trade agreement with anyone who wanted it.On Monday, Trump wrote: What few people understand is that we do very little business with India, but they do a tremendous amount of business with us. In other words, they sell us massive amounts of goods, their biggest client, but we sell them very little - Until now a totally one sided relationship, and it has been for many decades.The Indian PM said he had an insightful exchange with Putin.\"\n",
    "\n",
    "prompt = prompt_template.format(question = \"Give  me the summary of the news article?\", context = \"new context\")\n",
    "\n",
    "from langchain_groq import ChatGroq\n",
    "\n",
    "model = ChatGroq(model = \"llama-3.3-70b-versatile\", api_key = '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')\n",
    "\n",
    "response = model.invoke(prompt)\n",
    "print(response.content)"
   ]
  },
  {
   "cell_type": "code",
   "execution_count": 17,
   "id": "bb59de6c",
   "metadata": {},
   "outputs": [],
   "source": [
    "from langchain_groq import ChatGroq\n",
    "\n",
    "model = ChatGroq(model = \"llama-3.3-70b-versatile\", api_key = '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')\n",
    "\n",
    "with open(\"book.txt\", 'r', encoding = 'utf-8') as file:\n",
    "    book_context = file.read()"
   ]
  },
  {
   "cell_type": "code",
   "execution_count": 18,
   "id": "01d1b565",
   "metadata": {},
   "outputs": [],
   "source": [
    "\n",
    "file = open(\"book.txt\", encoding='utf-8')\n",
    "book_text = file.read()"
   ]
  },
  {
   "cell_type": "code",
   "execution_count": 19,
   "id": "418c2560",
   "metadata": {},
   "outputs": [
    {
     "data": {
      "text/plain": [
       "True"
      ]
     },
     "execution_count": 19,
     "metadata": {},
     "output_type": "execute_result"
    }
   ],
   "source": [
    "import os\n",
    "from dotenv import load_dotenv\n",
    "load_dotenv()"
   ]
  },
  {
   "cell_type": "code",
   "execution_count": 20,
   "id": "2cd328ec",
   "metadata": {},
   "outputs": [],
   "source": [
    "from langchain_groq import ChatGroq\n",
    "\n",
    "model = ChatGroq(model = \"llama-3.3-70b-versatile\", api_key = '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')"
   ]
  },
  {
   "cell_type": "code",
   "execution_count": 21,
   "id": "1b87dcbe",
   "metadata": {},
   "outputs": [],
   "source": [
    "file = open(\"book.txt\", encoding='utf-8')\n",
    "text = file.read()"
   ]
  },
  {
   "cell_type": "code",
   "execution_count": 22,
   "id": "c8b53dcf",
   "metadata": {},
   "outputs": [
    {
     "name": "stdout",
     "output_type": "stream",
     "text": [
      "content=\"Voici la liste des titres d'histoire avec un court résumé en français :\\n\\n1. **L'Aventurier, No. 34** : L'histoire de Misargyrus, un homme qui a gaspillé sa fortune et sa vie en poursuivant les plaisirs et la gloire, et qui se retrouve maintenant en prison.\\n2. **L'Aventurier, No. 39** : Un essai sur le sommeil, qui est considéré comme un bienfait pour l'humanité, permettant aux gens de se reposer et de se ressourcer.\\n3. **L'Aventurier, No. 41** : La suite de l'histoire de Misargyrus, qui continue de décrire sa descente aux enfers après avoir gaspillé sa fortune et sa réputation.\\n4. **L'Idler, No. 1** : L'introduction de l'Idler, un personnage qui aime à observer la vie et à réfléchir sur les choses qui l'entourent.\\n5. **L'Idler, No. 41** : Un essai sur la mort d'un ami, qui permet à l'auteur de réfléchir sur la vie et la mort, et sur l'importance de profiter de chaque moment.\\n\\nNotez que les autres histoires ne sont pas fournies dans le texte, donc je ne peux pas les résumer.\" additional_kwargs={} response_metadata={'token_usage': {'completion_tokens': 311, 'prompt_tokens': 10683, 'total_tokens': 10994, 'completion_time': 0.983062146, 'prompt_time': 0.869821907, 'queue_time': 0.069778561, 'total_time': 1.852884053}, 'model_name': 'llama-3.3-70b-versatile', 'system_fingerprint': 'fp_155ab82e98', 'service_tier': 'on_demand', 'finish_reason': 'stop', 'logprobs': None} id='run--4e657365-5fe4-4bde-a428-8dc6382c92c1-0' usage_metadata={'input_tokens': 10683, 'output_tokens': 311, 'total_tokens': 10994}\n"
     ]
    }
   ],
   "source": [
    "from langchain.chat_models import init_chat_model\n",
    "model = init_chat_model(\"llama-3.3-70b-versatile\", model_provider=\"groq\")\n",
    "\n",
    "prompt_template = \"\"\"You are a novel reader. You are given collection of stories:\n",
    "{collection_of_stories}\n",
    "You are tasked to make a list of story titles in this collection. Write a short summary for each story in french Language. Skip the story from the list, if the story is not provided in the text. \n",
    "\"\"\"\n",
    "\n",
    "response = model.invoke(prompt_template.format(collection_of_stories = text[:len(text)//20]))\n",
    "\n",
    "print(response)"
   ]
  },
  {
   "cell_type": "code",
   "execution_count": 23,
   "id": "bdb4f061",
   "metadata": {},
   "outputs": [
    {
     "data": {
      "text/markdown": [
       "Voici la liste des titres d'histoire avec un court résumé en français :\n",
       "\n",
       "1. **L'Aventurier, No. 34** : L'histoire de Misargyrus, un homme qui a gaspillé sa fortune et sa vie en poursuivant les plaisirs et la gloire, et qui se retrouve maintenant en prison.\n",
       "2. **L'Aventurier, No. 39** : Un essai sur le sommeil, qui est considéré comme un bienfait pour l'humanité, permettant aux gens de se reposer et de se ressourcer.\n",
       "3. **L'Aventurier, No. 41** : La suite de l'histoire de Misargyrus, qui continue de décrire sa descente aux enfers après avoir gaspillé sa fortune et sa réputation.\n",
       "4. **L'Idler, No. 1** : L'introduction de l'Idler, un personnage qui aime à observer la vie et à réfléchir sur les choses qui l'entourent.\n",
       "5. **L'Idler, No. 41** : Un essai sur la mort d'un ami, qui permet à l'auteur de réfléchir sur la vie et la mort, et sur l'importance de profiter de chaque moment.\n",
       "\n",
       "Notez que les autres histoires ne sont pas fournies dans le texte, donc je ne peux pas les résumer."
      ],
      "text/plain": [
       "<IPython.core.display.Markdown object>"
      ]
     },
     "execution_count": 23,
     "metadata": {},
     "output_type": "execute_result"
    }
   ],
   "source": [
    "from IPython.display import Markdown\n",
    "Markdown(response.content)"
   ]
  },
  {
   "cell_type": "code",
   "execution_count": 24,
   "id": "41e8e76d",
   "metadata": {},
   "outputs": [],
   "source": [
    "#loader\n",
    "from langchain_community.document_loaders import TextLoader\n",
    "loader = TextLoader(\"book.txt\")\n",
    "docs = loader.load()"
   ]
  }
 ],
 "metadata": {
  "kernelspec": {
   "display_name": "base",
   "language": "python",
   "name": "python3"
  },
  "language_info": {
   "codemirror_mode": {
    "name": "ipython",
    "version": 3
   },
   "file_extension": ".py",
   "mimetype": "text/x-python",
   "name": "python",
   "nbconvert_exporter": "python",
   "pygments_lexer": "ipython3",
   "version": "3.13.5"
  }
 },
 "nbformat": 4,
 "nbformat_minor": 5
}
