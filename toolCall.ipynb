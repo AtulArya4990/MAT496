{
 "cells": [
  {
   "cell_type": "code",
   "execution_count": 68,
   "id": "e35cffa5",
   "metadata": {},
   "outputs": [
    {
     "data": {
      "text/plain": [
       "True"
      ]
     },
     "execution_count": 68,
     "metadata": {},
     "output_type": "execute_result"
    }
   ],
   "source": [
    "from dotenv import load_dotenv\n",
    "load_dotenv(override=True)"
   ]
  },
  {
   "cell_type": "code",
   "execution_count": 69,
   "id": "832e33c0",
   "metadata": {},
   "outputs": [],
   "source": [
    "import getpass\n",
    "import os\n",
    "\n",
    "if not os.environ.get(\"GROQ_API_KEY\"):\n",
    "  os.environ[\"GROQ_API_KEY\"] = getpass.getpass(\"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\")\n",
    "\n",
    "from langchain.chat_models import init_chat_model\n",
    "\n",
    "llm = init_chat_model(\"llama-3.3-70b-versatile\", model_provider=\"groq\")"
   ]
  },
  {
   "cell_type": "code",
   "execution_count": 70,
   "id": "0a2b0707",
   "metadata": {},
   "outputs": [
    {
     "name": "stdout",
     "output_type": "stream",
     "text": [
      "multiply\n",
      "Multiply two numbers.\n",
      "{'a': {'title': 'A', 'type': 'number'}, 'b': {'title': 'B', 'type': 'number'}}\n",
      "add\n",
      "Add two numbers.\n",
      "{'a': {'title': 'A', 'type': 'number'}, 'b': {'title': 'B', 'type': 'number'}}\n",
      "subtract\n",
      "Subtract two numbers.\n",
      "{'a': {'title': 'A', 'type': 'number'}, 'b': {'title': 'B', 'type': 'number'}}\n"
     ]
    }
   ],
   "source": [
    "from langchain_core.tools import tool\n",
    "\n",
    "\n",
    "@tool\n",
    "def multiply(a: float, b: float) -> float:\n",
    "    \"\"\"Multiply two numbers.\"\"\"\n",
    "    return a * b\n",
    "\n",
    "@tool\n",
    "def add(a: float, b: float) -> float:\n",
    "    \"\"\"Add two numbers.\"\"\"\n",
    "    return a + b\n",
    "\n",
    "@tool\n",
    "def subtract(a: float, b: float) -> float:\n",
    "    \"\"\"Subtract two numbers.\"\"\"\n",
    "    return a - b\n",
    "\n",
    "\n",
    "# s inspect some of the attributes associated with the tool.\n",
    "print(multiply.name)\n",
    "print(multiply.description)\n",
    "print(multiply.args)\n",
    "\n",
    "print(add.name)\n",
    "print(add.description)\n",
    "print(add.args)\n",
    "\n",
    "print(subtract.name)\n",
    "print(subtract.description)\n",
    "print(subtract.args)"
   ]
  },
  {
   "cell_type": "code",
   "execution_count": 71,
   "id": "6ee61969",
   "metadata": {},
   "outputs": [],
   "source": [
    "tools_list = [multiply,add,subtract]\n",
    "tools_dict = {t.name: t for t in tools_list}\n",
    "\n"
   ]
  },
  {
   "cell_type": "code",
   "execution_count": 72,
   "id": "70560e0f",
   "metadata": {},
   "outputs": [],
   "source": [
    "llm_with_tools = llm.bind_tools(tools_list)\n"
   ]
  },
  {
   "cell_type": "code",
   "execution_count": 73,
   "id": "bbe1586f",
   "metadata": {},
   "outputs": [
    {
     "data": {
      "text/plain": [
       "AIMessage(content='', additional_kwargs={'tool_calls': [{'id': 'dast2ajjf', 'function': {'arguments': '{\"a\":100,\"b\":40}', 'name': 'subtract'}, 'type': 'function'}, {'id': 'deb129tj2', 'function': {'arguments': '{\"a\":60,\"b\":2}', 'name': 'multiply'}, 'type': 'function'}, {'id': 'cdnxr8pz0', 'function': {'arguments': '{\"a\":120,\"b\":10}', 'name': 'add'}, 'type': 'function'}]}, response_metadata={'token_usage': {'completion_tokens': 54, 'prompt_tokens': 334, 'total_tokens': 388, 'completion_time': 0.126674107, 'prompt_time': 0.033223912, 'queue_time': 0.046027607, 'total_time': 0.159898019}, 'model_name': 'llama-3.3-70b-versatile', 'system_fingerprint': 'fp_3f3b593e33', 'service_tier': 'on_demand', 'finish_reason': 'tool_calls', 'logprobs': None}, id='run--a26342b2-3c0e-4820-829c-16e2f02c5fb7-0', tool_calls=[{'name': 'subtract', 'args': {'a': 100, 'b': 40}, 'id': 'dast2ajjf', 'type': 'tool_call'}, {'name': 'multiply', 'args': {'a': 60, 'b': 2}, 'id': 'deb129tj2', 'type': 'tool_call'}, {'name': 'add', 'args': {'a': 120, 'b': 10}, 'id': 'cdnxr8pz0', 'type': 'tool_call'}], usage_metadata={'input_tokens': 334, 'output_tokens': 54, 'total_tokens': 388})"
      ]
     },
     "execution_count": 73,
     "metadata": {},
     "output_type": "execute_result"
    }
   ],
   "source": [
    "\n",
    "\n",
    "response = llm_with_tools.invoke(\"subtract 40 from 100 and multiply the result by 2 and then add 10\")\n",
    "\n",
    "response"
   ]
  },
  {
   "cell_type": "code",
   "execution_count": 74,
   "id": "7f3efe79",
   "metadata": {},
   "outputs": [
    {
     "data": {
      "text/plain": [
       "AIMessage(content='', additional_kwargs={'tool_calls': [{'id': 'cy31mbpdm', 'function': {'arguments': '{\"a\":1,\"b\":2}', 'name': 'add'}, 'type': 'function'}, {'id': 'wkd5ftj9v', 'function': {'arguments': '{\"a\":3,\"b\":6}', 'name': 'add'}, 'type': 'function'}, {'id': '7t3k7q62c', 'function': {'arguments': '{\"a\":9,\"b\":10}', 'name': 'add'}, 'type': 'function'}, {'id': '2gtqhdj6d', 'function': {'arguments': '{\"a\":15,\"b\":15}', 'name': 'add'}, 'type': 'function'}, {'id': '2a7d7tf4v', 'function': {'arguments': '{\"a\":30,\"b\":21}', 'name': 'add'}, 'type': 'function'}, {'id': 'w507qkyeb', 'function': {'arguments': '{\"a\":51,\"b\":28}', 'name': 'add'}, 'type': 'function'}, {'id': '7b1v2br0z', 'function': {'arguments': '{\"a\":79,\"b\":36}', 'name': 'add'}, 'type': 'function'}, {'id': '8estjfvz4', 'function': {'arguments': '{\"a\":115,\"b\":45}', 'name': 'add'}, 'type': 'function'}, {'id': 'adpdf13g8', 'function': {'arguments': '{\"a\":160,\"b\":55}', 'name': 'add'}, 'type': 'function'}, {'id': '3pqfdvcam', 'function': {'arguments': '{\"a\":1000,\"b\":220}', 'name': 'subtract'}, 'type': 'function'}]}, response_metadata={'token_usage': {'completion_tokens': 143, 'prompt_tokens': 328, 'total_tokens': 471, 'completion_time': 0.350616711, 'prompt_time': 0.032485037, 'queue_time': 0.045926222, 'total_time': 0.383101748}, 'model_name': 'llama-3.3-70b-versatile', 'system_fingerprint': 'fp_2ddfbb0da0', 'service_tier': 'on_demand', 'finish_reason': 'tool_calls', 'logprobs': None}, id='run--552f0b93-173b-4b98-bf0b-278bcb6c255f-0', tool_calls=[{'name': 'add', 'args': {'a': 1, 'b': 2}, 'id': 'cy31mbpdm', 'type': 'tool_call'}, {'name': 'add', 'args': {'a': 3, 'b': 6}, 'id': 'wkd5ftj9v', 'type': 'tool_call'}, {'name': 'add', 'args': {'a': 9, 'b': 10}, 'id': '7t3k7q62c', 'type': 'tool_call'}, {'name': 'add', 'args': {'a': 15, 'b': 15}, 'id': '2gtqhdj6d', 'type': 'tool_call'}, {'name': 'add', 'args': {'a': 30, 'b': 21}, 'id': '2a7d7tf4v', 'type': 'tool_call'}, {'name': 'add', 'args': {'a': 51, 'b': 28}, 'id': 'w507qkyeb', 'type': 'tool_call'}, {'name': 'add', 'args': {'a': 79, 'b': 36}, 'id': '7b1v2br0z', 'type': 'tool_call'}, {'name': 'add', 'args': {'a': 115, 'b': 45}, 'id': '8estjfvz4', 'type': 'tool_call'}, {'name': 'add', 'args': {'a': 160, 'b': 55}, 'id': 'adpdf13g8', 'type': 'tool_call'}, {'name': 'subtract', 'args': {'a': 1000, 'b': 220}, 'id': '3pqfdvcam', 'type': 'tool_call'}], usage_metadata={'input_tokens': 328, 'output_tokens': 143, 'total_tokens': 471})"
      ]
     },
     "execution_count": 74,
     "metadata": {},
     "output_type": "execute_result"
    }
   ],
   "source": [
    "response2 = llm_with_tools.invoke(\"add first 10 numbers then subtract them from 1000\")\n",
    "\n",
    "response2"
   ]
  },
  {
   "cell_type": "code",
   "execution_count": 75,
   "id": "91432af9",
   "metadata": {},
   "outputs": [
    {
     "data": {
      "text/plain": [
       "[{'name': 'subtract',\n",
       "  'args': {'a': 100, 'b': 40},\n",
       "  'id': 'dast2ajjf',\n",
       "  'type': 'tool_call'},\n",
       " {'name': 'multiply',\n",
       "  'args': {'a': 60, 'b': 2},\n",
       "  'id': 'deb129tj2',\n",
       "  'type': 'tool_call'},\n",
       " {'name': 'add',\n",
       "  'args': {'a': 120, 'b': 10},\n",
       "  'id': 'cdnxr8pz0',\n",
       "  'type': 'tool_call'}]"
      ]
     },
     "execution_count": 75,
     "metadata": {},
     "output_type": "execute_result"
    }
   ],
   "source": [
    "response.tool_calls\n",
    "\n"
   ]
  },
  {
   "cell_type": "code",
   "execution_count": 76,
   "id": "785ffae0",
   "metadata": {},
   "outputs": [
    {
     "data": {
      "text/plain": [
       "[{'name': 'add',\n",
       "  'args': {'a': 1, 'b': 2},\n",
       "  'id': 'cy31mbpdm',\n",
       "  'type': 'tool_call'},\n",
       " {'name': 'add',\n",
       "  'args': {'a': 3, 'b': 6},\n",
       "  'id': 'wkd5ftj9v',\n",
       "  'type': 'tool_call'},\n",
       " {'name': 'add',\n",
       "  'args': {'a': 9, 'b': 10},\n",
       "  'id': '7t3k7q62c',\n",
       "  'type': 'tool_call'},\n",
       " {'name': 'add',\n",
       "  'args': {'a': 15, 'b': 15},\n",
       "  'id': '2gtqhdj6d',\n",
       "  'type': 'tool_call'},\n",
       " {'name': 'add',\n",
       "  'args': {'a': 30, 'b': 21},\n",
       "  'id': '2a7d7tf4v',\n",
       "  'type': 'tool_call'},\n",
       " {'name': 'add',\n",
       "  'args': {'a': 51, 'b': 28},\n",
       "  'id': 'w507qkyeb',\n",
       "  'type': 'tool_call'},\n",
       " {'name': 'add',\n",
       "  'args': {'a': 79, 'b': 36},\n",
       "  'id': '7b1v2br0z',\n",
       "  'type': 'tool_call'},\n",
       " {'name': 'add',\n",
       "  'args': {'a': 115, 'b': 45},\n",
       "  'id': '8estjfvz4',\n",
       "  'type': 'tool_call'},\n",
       " {'name': 'add',\n",
       "  'args': {'a': 160, 'b': 55},\n",
       "  'id': 'adpdf13g8',\n",
       "  'type': 'tool_call'},\n",
       " {'name': 'subtract',\n",
       "  'args': {'a': 1000, 'b': 220},\n",
       "  'id': '3pqfdvcam',\n",
       "  'type': 'tool_call'}]"
      ]
     },
     "execution_count": 76,
     "metadata": {},
     "output_type": "execute_result"
    }
   ],
   "source": [
    "response2.tool_calls"
   ]
  },
  {
   "cell_type": "code",
   "execution_count": 77,
   "id": "6f09eacb",
   "metadata": {},
   "outputs": [
    {
     "data": {
      "text/plain": [
       "ToolMessage(content='130.0', name='add', tool_call_id='cdnxr8pz0')"
      ]
     },
     "execution_count": 77,
     "metadata": {},
     "output_type": "execute_result"
    }
   ],
   "source": [
    "tools_dict[response.tool_calls[0][\"name\"]].invoke(response.tool_calls[0])\n",
    "tools_dict[response.tool_calls[1][\"name\"]].invoke(response.tool_calls[1])\n",
    "tools_dict[response.tool_calls[2][\"name\"]].invoke(response.tool_calls[2])"
   ]
  },
  {
   "cell_type": "code",
   "execution_count": 78,
   "id": "928062d3",
   "metadata": {},
   "outputs": [
    {
     "data": {
      "text/plain": [
       "ToolMessage(content='160.0', name='add', tool_call_id='8estjfvz4')"
      ]
     },
     "execution_count": 78,
     "metadata": {},
     "output_type": "execute_result"
    }
   ],
   "source": [
    "tools_dict[response2.tool_calls[0][\"name\"]].invoke(response2.tool_calls[0])\n",
    "tools_dict[response2.tool_calls[1][\"name\"]].invoke(response2.tool_calls[1])\n",
    "tools_dict[response2.tool_calls[2][\"name\"]].invoke(response2.tool_calls[2])\n",
    "tools_dict[response2.tool_calls[3][\"name\"]].invoke(response2.tool_calls[3])\n",
    "tools_dict[response2.tool_calls[4][\"name\"]].invoke(response2.tool_calls[4])\n",
    "tools_dict[response2.tool_calls[5][\"name\"]].invoke(response2.tool_calls[5])\n",
    "tools_dict[response2.tool_calls[6][\"name\"]].invoke(response2.tool_calls[6])\n",
    "tools_dict[response2.tool_calls[7][\"name\"]].invoke(response2.tool_calls[7])\n"
   ]
  }
 ],
 "metadata": {
  "kernelspec": {
   "display_name": "base",
   "language": "python",
   "name": "python3"
  },
  "language_info": {
   "codemirror_mode": {
    "name": "ipython",
    "version": 3
   },
   "file_extension": ".py",
   "mimetype": "text/x-python",
   "name": "python",
   "nbconvert_exporter": "python",
   "pygments_lexer": "ipython3",
   "version": "3.13.5"
  }
 },
 "nbformat": 4,
 "nbformat_minor": 5
}
